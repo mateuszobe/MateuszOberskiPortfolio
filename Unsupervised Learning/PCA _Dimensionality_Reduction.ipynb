{
 "cells": [
  {
   "cell_type": "markdown",
   "id": "405c0d28-6591-446f-88ac-c0433d6474f3",
   "metadata": {},
   "source": [
    "**PCA Dimensionality Reduction**\n",
    "\n",
    "In this task, I will apply the **PCA algorithm** to **reduce the dimensionality** of the data.\n",
    "The goal is to reduce the number of **variables** while retaining as much **information** as possible.\n",
    "First, I will **standardize** the data, then calculate the **eigenvectors** and **eigenvalues**,\n",
    "which will allow me to transform the data into a **smaller number of dimensions**.\n",
    "\n",
    "**🔍 More details and comments are available at the end of the file.**"
   ]
  },
  {
   "cell_type": "markdown",
   "id": "09d5a026-b884-4bd8-82a7-b14eea5fc631",
   "metadata": {},
   "source": [
    "**#0 Imports**"
   ]
  },
  {
   "cell_type": "code",
   "execution_count": 1,
   "id": "01bfed2b-20ff-4d98-a00c-e3ba004b2bee",
   "metadata": {},
   "outputs": [],
   "source": [
    "# Imports\n",
    "import pandas as pd\n",
    "import numpy as np\n",
    "import matplotlib.pyplot as plt\n",
    "from math import sqrt\n",
    "\n",
    "# Data split and validation\n",
    "from sklearn.model_selection import train_test_split, KFold, GridSearchCV\n",
    "\n",
    "# Models\n",
    "from sklearn.linear_model import ElasticNet\n",
    "from sklearn.linear_model import LogisticRegression\n",
    "\n",
    "# Metrics\n",
    "from sklearn.metrics import r2_score, mean_squared_error, mean_absolute_error, mean_absolute_percentage_error\n",
    "from sklearn.metrics import classification_report, confusion_matrix, f1_score, roc_auc_score\n",
    "\n",
    "# Transformations and data processing\n",
    "from sklearn.preprocessing import PowerTransformer, StandardScaler, PolynomialFeatures, OneHotEncoder\n",
    "from sklearn.compose import ColumnTransformer\n",
    "\n",
    "# Pipeline and column transformations\n",
    "from sklearn.pipeline import Pipeline\n",
    "from sklearn.decomposition import PCA\n",
    "\n",
    "# Classification\n",
    "from sklearn.ensemble import RandomForestClassifier\n",
    "\n",
    "import seaborn as sns\n",
    "import warnings\n",
    "warnings.filterwarnings(\"ignore\")"
   ]
  },
  {
   "cell_type": "markdown",
   "id": "968577b0-5782-4cd9-b38f-e4d5064c3f32",
   "metadata": {},
   "source": [
    "**#1 Load dataset - REGRESSION**"
   ]
  },
  {
   "cell_type": "code",
   "execution_count": 2,
   "id": "27fc34e9-2f37-48e3-9ebb-16b3f9bbf0db",
   "metadata": {},
   "outputs": [
    {
     "data": {
      "text/html": [
       "<div>\n",
       "<style scoped>\n",
       "    .dataframe tbody tr th:only-of-type {\n",
       "        vertical-align: middle;\n",
       "    }\n",
       "\n",
       "    .dataframe tbody tr th {\n",
       "        vertical-align: top;\n",
       "    }\n",
       "\n",
       "    .dataframe thead th {\n",
       "        text-align: right;\n",
       "    }\n",
       "</style>\n",
       "<table border=\"1\" class=\"dataframe\">\n",
       "  <thead>\n",
       "    <tr style=\"text-align: right;\">\n",
       "      <th></th>\n",
       "      <th>instant</th>\n",
       "      <th>dteday</th>\n",
       "      <th>season</th>\n",
       "      <th>yr</th>\n",
       "      <th>mnth</th>\n",
       "      <th>holiday</th>\n",
       "      <th>weekday</th>\n",
       "      <th>workingday</th>\n",
       "      <th>weathersit</th>\n",
       "      <th>temp</th>\n",
       "      <th>atemp</th>\n",
       "      <th>hum</th>\n",
       "      <th>windspeed</th>\n",
       "      <th>rentals</th>\n",
       "    </tr>\n",
       "  </thead>\n",
       "  <tbody>\n",
       "    <tr>\n",
       "      <th>0</th>\n",
       "      <td>1</td>\n",
       "      <td>1/1/2011</td>\n",
       "      <td>1</td>\n",
       "      <td>0</td>\n",
       "      <td>1</td>\n",
       "      <td>0</td>\n",
       "      <td>6</td>\n",
       "      <td>0</td>\n",
       "      <td>2</td>\n",
       "      <td>0.344167</td>\n",
       "      <td>0.363625</td>\n",
       "      <td>0.805833</td>\n",
       "      <td>0.160446</td>\n",
       "      <td>331</td>\n",
       "    </tr>\n",
       "    <tr>\n",
       "      <th>1</th>\n",
       "      <td>2</td>\n",
       "      <td>1/2/2011</td>\n",
       "      <td>1</td>\n",
       "      <td>0</td>\n",
       "      <td>1</td>\n",
       "      <td>0</td>\n",
       "      <td>0</td>\n",
       "      <td>0</td>\n",
       "      <td>2</td>\n",
       "      <td>0.363478</td>\n",
       "      <td>0.353739</td>\n",
       "      <td>0.696087</td>\n",
       "      <td>0.248539</td>\n",
       "      <td>131</td>\n",
       "    </tr>\n",
       "    <tr>\n",
       "      <th>2</th>\n",
       "      <td>3</td>\n",
       "      <td>1/3/2011</td>\n",
       "      <td>1</td>\n",
       "      <td>0</td>\n",
       "      <td>1</td>\n",
       "      <td>0</td>\n",
       "      <td>1</td>\n",
       "      <td>1</td>\n",
       "      <td>1</td>\n",
       "      <td>0.196364</td>\n",
       "      <td>0.189405</td>\n",
       "      <td>0.437273</td>\n",
       "      <td>0.248309</td>\n",
       "      <td>120</td>\n",
       "    </tr>\n",
       "    <tr>\n",
       "      <th>3</th>\n",
       "      <td>4</td>\n",
       "      <td>1/4/2011</td>\n",
       "      <td>1</td>\n",
       "      <td>0</td>\n",
       "      <td>1</td>\n",
       "      <td>0</td>\n",
       "      <td>2</td>\n",
       "      <td>1</td>\n",
       "      <td>1</td>\n",
       "      <td>0.200000</td>\n",
       "      <td>0.212122</td>\n",
       "      <td>0.590435</td>\n",
       "      <td>0.160296</td>\n",
       "      <td>108</td>\n",
       "    </tr>\n",
       "    <tr>\n",
       "      <th>4</th>\n",
       "      <td>5</td>\n",
       "      <td>1/5/2011</td>\n",
       "      <td>1</td>\n",
       "      <td>0</td>\n",
       "      <td>1</td>\n",
       "      <td>0</td>\n",
       "      <td>3</td>\n",
       "      <td>1</td>\n",
       "      <td>1</td>\n",
       "      <td>0.226957</td>\n",
       "      <td>0.229270</td>\n",
       "      <td>0.436957</td>\n",
       "      <td>0.186900</td>\n",
       "      <td>82</td>\n",
       "    </tr>\n",
       "    <tr>\n",
       "      <th>...</th>\n",
       "      <td>...</td>\n",
       "      <td>...</td>\n",
       "      <td>...</td>\n",
       "      <td>...</td>\n",
       "      <td>...</td>\n",
       "      <td>...</td>\n",
       "      <td>...</td>\n",
       "      <td>...</td>\n",
       "      <td>...</td>\n",
       "      <td>...</td>\n",
       "      <td>...</td>\n",
       "      <td>...</td>\n",
       "      <td>...</td>\n",
       "      <td>...</td>\n",
       "    </tr>\n",
       "    <tr>\n",
       "      <th>726</th>\n",
       "      <td>727</td>\n",
       "      <td>12/27/2012</td>\n",
       "      <td>1</td>\n",
       "      <td>1</td>\n",
       "      <td>12</td>\n",
       "      <td>0</td>\n",
       "      <td>4</td>\n",
       "      <td>1</td>\n",
       "      <td>2</td>\n",
       "      <td>0.254167</td>\n",
       "      <td>0.226642</td>\n",
       "      <td>0.652917</td>\n",
       "      <td>0.350133</td>\n",
       "      <td>247</td>\n",
       "    </tr>\n",
       "    <tr>\n",
       "      <th>727</th>\n",
       "      <td>728</td>\n",
       "      <td>12/28/2012</td>\n",
       "      <td>1</td>\n",
       "      <td>1</td>\n",
       "      <td>12</td>\n",
       "      <td>0</td>\n",
       "      <td>5</td>\n",
       "      <td>1</td>\n",
       "      <td>2</td>\n",
       "      <td>0.253333</td>\n",
       "      <td>0.255046</td>\n",
       "      <td>0.590000</td>\n",
       "      <td>0.155471</td>\n",
       "      <td>644</td>\n",
       "    </tr>\n",
       "    <tr>\n",
       "      <th>728</th>\n",
       "      <td>729</td>\n",
       "      <td>12/29/2012</td>\n",
       "      <td>1</td>\n",
       "      <td>1</td>\n",
       "      <td>12</td>\n",
       "      <td>0</td>\n",
       "      <td>6</td>\n",
       "      <td>0</td>\n",
       "      <td>2</td>\n",
       "      <td>0.253333</td>\n",
       "      <td>0.242400</td>\n",
       "      <td>0.752917</td>\n",
       "      <td>0.124383</td>\n",
       "      <td>159</td>\n",
       "    </tr>\n",
       "    <tr>\n",
       "      <th>729</th>\n",
       "      <td>730</td>\n",
       "      <td>12/30/2012</td>\n",
       "      <td>1</td>\n",
       "      <td>1</td>\n",
       "      <td>12</td>\n",
       "      <td>0</td>\n",
       "      <td>0</td>\n",
       "      <td>0</td>\n",
       "      <td>1</td>\n",
       "      <td>0.255833</td>\n",
       "      <td>0.231700</td>\n",
       "      <td>0.483333</td>\n",
       "      <td>0.350754</td>\n",
       "      <td>364</td>\n",
       "    </tr>\n",
       "    <tr>\n",
       "      <th>730</th>\n",
       "      <td>731</td>\n",
       "      <td>12/31/2012</td>\n",
       "      <td>1</td>\n",
       "      <td>1</td>\n",
       "      <td>12</td>\n",
       "      <td>0</td>\n",
       "      <td>1</td>\n",
       "      <td>1</td>\n",
       "      <td>2</td>\n",
       "      <td>0.215833</td>\n",
       "      <td>0.223487</td>\n",
       "      <td>0.577500</td>\n",
       "      <td>0.154846</td>\n",
       "      <td>439</td>\n",
       "    </tr>\n",
       "  </tbody>\n",
       "</table>\n",
       "<p>731 rows × 14 columns</p>\n",
       "</div>"
      ],
      "text/plain": [
       "     instant      dteday  season  yr  mnth  holiday  weekday  workingday  \\\n",
       "0          1    1/1/2011       1   0     1        0        6           0   \n",
       "1          2    1/2/2011       1   0     1        0        0           0   \n",
       "2          3    1/3/2011       1   0     1        0        1           1   \n",
       "3          4    1/4/2011       1   0     1        0        2           1   \n",
       "4          5    1/5/2011       1   0     1        0        3           1   \n",
       "..       ...         ...     ...  ..   ...      ...      ...         ...   \n",
       "726      727  12/27/2012       1   1    12        0        4           1   \n",
       "727      728  12/28/2012       1   1    12        0        5           1   \n",
       "728      729  12/29/2012       1   1    12        0        6           0   \n",
       "729      730  12/30/2012       1   1    12        0        0           0   \n",
       "730      731  12/31/2012       1   1    12        0        1           1   \n",
       "\n",
       "     weathersit      temp     atemp       hum  windspeed  rentals  \n",
       "0             2  0.344167  0.363625  0.805833   0.160446      331  \n",
       "1             2  0.363478  0.353739  0.696087   0.248539      131  \n",
       "2             1  0.196364  0.189405  0.437273   0.248309      120  \n",
       "3             1  0.200000  0.212122  0.590435   0.160296      108  \n",
       "4             1  0.226957  0.229270  0.436957   0.186900       82  \n",
       "..          ...       ...       ...       ...        ...      ...  \n",
       "726           2  0.254167  0.226642  0.652917   0.350133      247  \n",
       "727           2  0.253333  0.255046  0.590000   0.155471      644  \n",
       "728           2  0.253333  0.242400  0.752917   0.124383      159  \n",
       "729           1  0.255833  0.231700  0.483333   0.350754      364  \n",
       "730           2  0.215833  0.223487  0.577500   0.154846      439  \n",
       "\n",
       "[731 rows x 14 columns]"
      ]
     },
     "execution_count": 2,
     "metadata": {},
     "output_type": "execute_result"
    }
   ],
   "source": [
    "bike_data_raw = pd.read_csv('daily-bike-share.csv')\n",
    "bike_data_raw"
   ]
  },
  {
   "cell_type": "markdown",
   "id": "8e6b423c-4491-4aa0-9d70-6a7e10112a89",
   "metadata": {},
   "source": [
    "**#2 Data preparation**"
   ]
  },
  {
   "cell_type": "code",
   "execution_count": 3,
   "id": "3708ea3e-fa18-47a8-8a69-acf218bf7d46",
   "metadata": {},
   "outputs": [
    {
     "name": "stdout",
     "output_type": "stream",
     "text": [
      "Numeric features: ['temp', 'difference_temp', 'hum', 'windspeed']\n",
      "Categorical features: ['season', 'mnth', 'holiday', 'weekday', 'workingday', 'weathersit']\n",
      "Target: rentals\n"
     ]
    }
   ],
   "source": [
    "bike_data_raw['dteday'] = pd.to_datetime(bike_data_raw['dteday'])\n",
    "\n",
    "bike_data = bike_data_raw.copy()\n",
    "bike_data.drop(['instant', 'dteday', 'yr'], axis=1, inplace=True)\n",
    "\n",
    "numeric_features = ['temp', 'atemp', 'hum', 'windspeed']\n",
    "categorical_features = ['season','mnth','holiday','weekday','workingday','weathersit']\n",
    "target = 'rentals'\n",
    "\n",
    "bike_data['difference_temp'] = (bike_data['atemp'] - bike_data['temp'])/bike_data['temp']\n",
    "bike_data.drop(['atemp'], axis=1, inplace=True)\n",
    "numeric_features = ['temp', 'difference_temp', 'hum', 'windspeed']\n",
    "\n",
    "print(f'Numeric features: {numeric_features}')\n",
    "print(f'Categorical features: {categorical_features}')\n",
    "print(f'Target: {target}')"
   ]
  },
  {
   "cell_type": "markdown",
   "id": "bf40e8ac-be6f-4aba-86e4-467f0f2c9a3e",
   "metadata": {},
   "source": [
    "**#3 Data split**"
   ]
  },
  {
   "cell_type": "code",
   "execution_count": 4,
   "id": "521bba76-373a-4688-9bd5-010fe452e526",
   "metadata": {},
   "outputs": [],
   "source": [
    "cv = KFold(n_splits=5, shuffle=False)"
   ]
  },
  {
   "cell_type": "code",
   "execution_count": 5,
   "id": "961395ba-4b5e-4bd5-9b8d-089f5ea13c36",
   "metadata": {},
   "outputs": [],
   "source": [
    "# Split into explanatory and target variables\n",
    "X = bike_data[numeric_features+categorical_features].copy()\n",
    "y = bike_data[target].copy()\n",
    "\n",
    "# Split into training and testing sets\n",
    "X_train, X_test, y_train, y_test = train_test_split(X, y, test_size=0.2, shuffle=False)\n",
    "numeric_transformer = Pipeline(steps=[\n",
    "    ('logtransformer', PowerTransformer()),\n",
    "    ('standardscaler', StandardScaler()),\n",
    "    ('polynomialfeatures', PolynomialFeatures())])\n",
    "\n",
    "categorical_transformer = Pipeline(steps=[\n",
    "    ('onehot', OneHotEncoder(handle_unknown='ignore'))])\n",
    "\n",
    "preprocessor = ColumnTransformer(\n",
    "    transformers=[\n",
    "        ('num', numeric_transformer, numeric_features),\n",
    "        ('cat', categorical_transformer, categorical_features)])"
   ]
  },
  {
   "cell_type": "markdown",
   "id": "fcad00de-737b-489a-8998-052c1a29f5aa",
   "metadata": {},
   "source": [
    "**#4 Final model without PCA**"
   ]
  },
  {
   "cell_type": "code",
   "execution_count": 6,
   "id": "366610f8-b764-435e-8912-fac392efe98e",
   "metadata": {},
   "outputs": [
    {
     "name": "stdout",
     "output_type": "stream",
     "text": [
      "\n",
      "Best hyperparameters: {'preprocessor__num__polynomialfeatures__degree': 1, 'regressor__alpha': 0.1, 'regressor__l1_ratio': 0.4} \n",
      "\n"
     ]
    }
   ],
   "source": [
    "# Create final pipeline to train\n",
    "final_pipeline = Pipeline(steps=[('preprocessor', preprocessor),\n",
    "                                 ('regressor', ElasticNet())])\n",
    "\n",
    "params = {'preprocessor__num__polynomialfeatures__degree': [1, 2, 3, 4, 5],\n",
    "          'regressor__alpha': [1e-5, 1e-4, 1e-3, 1e-2, 1e-1, 0.0, 1.0, 10.0, 100.0],\n",
    "          'regressor__l1_ratio': np.arange(0, 1.1, 0.1)}\n",
    "\n",
    "final_polynomial_regression_gridsearch = GridSearchCV(final_pipeline,\n",
    "                                                      params,\n",
    "                                                      scoring='neg_mean_squared_error',\n",
    "                                                      cv=cv)\n",
    "\n",
    "final_polynomial_regression_gridsearch.fit(X_train, y_train)\n",
    "print(\"\\nBest hyperparameters:\", final_polynomial_regression_gridsearch.best_params_, \"\\n\")\n",
    "\n",
    "final_polynomial_regression_model = final_polynomial_regression_gridsearch.best_estimator_\n",
    "predictions = final_polynomial_regression_model.predict(X_test)"
   ]
  },
  {
   "cell_type": "markdown",
   "id": "27e5a6f2-cc26-49b2-8488-468d4f68a0c7",
   "metadata": {},
   "source": [
    "**#5 Evaluation of final model without PCA**"
   ]
  },
  {
   "cell_type": "code",
   "execution_count": 7,
   "id": "61727a57-0a02-4454-9767-c3b94f3f7c2c",
   "metadata": {},
   "outputs": [
    {
     "name": "stdout",
     "output_type": "stream",
     "text": [
      "Test R^2: 0.5246818862090765\n",
      "Test MAE: 348.5851935515566\n",
      "Test MAPE: 0.859331973002823\n",
      "Test MSE: 234195.93113132005\n",
      "Test RMSE: 483.9379414050112\n"
     ]
    }
   ],
   "source": [
    "print(f'Test R^2: {r2_score(y_test, predictions)}')\n",
    "print(f'Test MAE: {mean_absolute_error(y_test, predictions)}')\n",
    "print(f'Test MAPE: {mean_absolute_percentage_error(y_test, predictions)}')\n",
    "print(f'Test MSE: {mean_squared_error(y_test, predictions)}')\n",
    "print(f'Test RMSE: {sqrt(mean_squared_error(y_test, predictions))}')"
   ]
  },
  {
   "cell_type": "markdown",
   "id": "4ed46f3b-95ba-449d-9f63-d0a3009059fa",
   "metadata": {},
   "source": [
    "**#6 Final model with PCA**"
   ]
  },
  {
   "cell_type": "code",
   "execution_count": 8,
   "id": "823397ef-c729-4528-9534-4be6902dd4a0",
   "metadata": {},
   "outputs": [
    {
     "name": "stdout",
     "output_type": "stream",
     "text": [
      "\n",
      "Best hyperparameters: {'pca__n_components': 0.9, 'preprocessor__num__polynomialfeatures__degree': 1, 'regressor__alpha': 0.1, 'regressor__l1_ratio': 0.8} \n",
      "\n"
     ]
    }
   ],
   "source": [
    "# Final model pipeline with PCA\n",
    "final_pipeline_with_pca = Pipeline(steps=[('preprocessor', preprocessor),\n",
    "                                          ('pca', PCA(random_state=42)),\n",
    "                                          ('regressor', ElasticNet())])\n",
    "\n",
    "# Define hyperparameters, including PCA\n",
    "params_with_pca = {'preprocessor__num__polynomialfeatures__degree': [1, 2, 3, 4, 5],\n",
    "                   'pca__n_components': [0.8, 0.85, 0.9, 0.95, 1.0, None],  # Testing different variance percentages\n",
    "                   'regressor__alpha': [1e-5, 1e-4, 1e-3, 1e-2, 1e-1, 0.0, 1.0, 10.0, 100.0],\n",
    "                   'regressor__l1_ratio': np.arange(0, 1.1, 0.1)}\n",
    "\n",
    "# GridSearchCV for model optimization\n",
    "final_polynomial_regression_gridsearch_with_pca = GridSearchCV(final_pipeline_with_pca,\n",
    "                                                               params_with_pca,\n",
    "                                                               scoring='neg_mean_squared_error',\n",
    "                                                               cv=cv)\n",
    "# Train model with PCA\n",
    "final_polynomial_regression_gridsearch_with_pca.fit(X_train, y_train)\n",
    "print(\"\\nBest hyperparameters:\", final_polynomial_regression_gridsearch_with_pca.best_params_, \"\\n\")\n",
    "\n",
    "# Best model after GridSearchCV\n",
    "final_polynomial_regression_model_with_pca = final_polynomial_regression_gridsearch_with_pca.best_estimator_\n",
    "predictions_with_pca = final_polynomial_regression_model_with_pca.predict(X_test)"
   ]
  },
  {
   "cell_type": "markdown",
   "id": "5a76bc03-04d7-4f0a-8d41-3cbc95ddae08",
   "metadata": {},
   "source": [
    "**#7 Evaluation of final model with PCA**"
   ]
  },
  {
   "cell_type": "code",
   "execution_count": 9,
   "id": "e630bb06-002c-4e06-b40a-72d989fc0ead",
   "metadata": {},
   "outputs": [
    {
     "name": "stdout",
     "output_type": "stream",
     "text": [
      "Test R^2 (PCA): 0.49849208979609405\n",
      "Test MAE (PCA): 363.6575548449843\n",
      "Test MAPE (PCA): 0.7158967327036112\n",
      "Test MSE (PCA): 247100.01279603873\n",
      "Test RMSE (PCA): 497.0915537363703\n"
     ]
    }
   ],
   "source": [
    "print(f'Test R^2 (PCA): {r2_score(y_test, predictions_with_pca)}')\n",
    "print(f'Test MAE (PCA): {mean_absolute_error(y_test, predictions_with_pca)}')\n",
    "print(f'Test MAPE (PCA): {mean_absolute_percentage_error(y_test, predictions_with_pca)}')\n",
    "print(f'Test MSE (PCA): {mean_squared_error(y_test, predictions_with_pca)}')\n",
    "print(f'Test RMSE (PCA): {sqrt(mean_squared_error(y_test, predictions_with_pca))}')"
   ]
  },
  {
   "cell_type": "markdown",
   "id": "be5d903f-897f-4726-af5f-91d925b692ab",
   "metadata": {},
   "source": [
    "**#8 Load dataset - CLASSIFICATION**"
   ]
  },
  {
   "cell_type": "code",
   "execution_count": 10,
   "id": "84545575-cb48-4ac6-98cf-e5e60edf3bdc",
   "metadata": {},
   "outputs": [
    {
     "data": {
      "text/html": [
       "<div>\n",
       "<style scoped>\n",
       "    .dataframe tbody tr th:only-of-type {\n",
       "        vertical-align: middle;\n",
       "    }\n",
       "\n",
       "    .dataframe tbody tr th {\n",
       "        vertical-align: top;\n",
       "    }\n",
       "\n",
       "    .dataframe thead th {\n",
       "        text-align: right;\n",
       "    }\n",
       "</style>\n",
       "<table border=\"1\" class=\"dataframe\">\n",
       "  <thead>\n",
       "    <tr style=\"text-align: right;\">\n",
       "      <th></th>\n",
       "      <th>CulmenLength</th>\n",
       "      <th>CulmenDepth</th>\n",
       "      <th>FlipperLength</th>\n",
       "      <th>BodyMass</th>\n",
       "      <th>Species</th>\n",
       "    </tr>\n",
       "  </thead>\n",
       "  <tbody>\n",
       "    <tr>\n",
       "      <th>0</th>\n",
       "      <td>39.1</td>\n",
       "      <td>18.7</td>\n",
       "      <td>181.0</td>\n",
       "      <td>3750.0</td>\n",
       "      <td>0</td>\n",
       "    </tr>\n",
       "    <tr>\n",
       "      <th>1</th>\n",
       "      <td>39.5</td>\n",
       "      <td>17.4</td>\n",
       "      <td>186.0</td>\n",
       "      <td>3800.0</td>\n",
       "      <td>0</td>\n",
       "    </tr>\n",
       "    <tr>\n",
       "      <th>2</th>\n",
       "      <td>40.3</td>\n",
       "      <td>18.0</td>\n",
       "      <td>195.0</td>\n",
       "      <td>3250.0</td>\n",
       "      <td>0</td>\n",
       "    </tr>\n",
       "    <tr>\n",
       "      <th>4</th>\n",
       "      <td>36.7</td>\n",
       "      <td>19.3</td>\n",
       "      <td>193.0</td>\n",
       "      <td>3450.0</td>\n",
       "      <td>0</td>\n",
       "    </tr>\n",
       "    <tr>\n",
       "      <th>5</th>\n",
       "      <td>39.3</td>\n",
       "      <td>20.6</td>\n",
       "      <td>190.0</td>\n",
       "      <td>3650.0</td>\n",
       "      <td>0</td>\n",
       "    </tr>\n",
       "    <tr>\n",
       "      <th>...</th>\n",
       "      <td>...</td>\n",
       "      <td>...</td>\n",
       "      <td>...</td>\n",
       "      <td>...</td>\n",
       "      <td>...</td>\n",
       "    </tr>\n",
       "    <tr>\n",
       "      <th>339</th>\n",
       "      <td>55.8</td>\n",
       "      <td>19.8</td>\n",
       "      <td>207.0</td>\n",
       "      <td>4000.0</td>\n",
       "      <td>2</td>\n",
       "    </tr>\n",
       "    <tr>\n",
       "      <th>340</th>\n",
       "      <td>43.5</td>\n",
       "      <td>18.1</td>\n",
       "      <td>202.0</td>\n",
       "      <td>3400.0</td>\n",
       "      <td>2</td>\n",
       "    </tr>\n",
       "    <tr>\n",
       "      <th>341</th>\n",
       "      <td>49.6</td>\n",
       "      <td>18.2</td>\n",
       "      <td>193.0</td>\n",
       "      <td>3775.0</td>\n",
       "      <td>2</td>\n",
       "    </tr>\n",
       "    <tr>\n",
       "      <th>342</th>\n",
       "      <td>50.8</td>\n",
       "      <td>19.0</td>\n",
       "      <td>210.0</td>\n",
       "      <td>4100.0</td>\n",
       "      <td>2</td>\n",
       "    </tr>\n",
       "    <tr>\n",
       "      <th>343</th>\n",
       "      <td>50.2</td>\n",
       "      <td>18.7</td>\n",
       "      <td>198.0</td>\n",
       "      <td>3775.0</td>\n",
       "      <td>2</td>\n",
       "    </tr>\n",
       "  </tbody>\n",
       "</table>\n",
       "<p>342 rows × 5 columns</p>\n",
       "</div>"
      ],
      "text/plain": [
       "     CulmenLength  CulmenDepth  FlipperLength  BodyMass  Species\n",
       "0            39.1         18.7          181.0    3750.0        0\n",
       "1            39.5         17.4          186.0    3800.0        0\n",
       "2            40.3         18.0          195.0    3250.0        0\n",
       "4            36.7         19.3          193.0    3450.0        0\n",
       "5            39.3         20.6          190.0    3650.0        0\n",
       "..            ...          ...            ...       ...      ...\n",
       "339          55.8         19.8          207.0    4000.0        2\n",
       "340          43.5         18.1          202.0    3400.0        2\n",
       "341          49.6         18.2          193.0    3775.0        2\n",
       "342          50.8         19.0          210.0    4100.0        2\n",
       "343          50.2         18.7          198.0    3775.0        2\n",
       "\n",
       "[342 rows x 5 columns]"
      ]
     },
     "execution_count": 10,
     "metadata": {},
     "output_type": "execute_result"
    }
   ],
   "source": [
    "penguins = pd.read_csv('penguins.csv')\n",
    "penguins.dropna(inplace=True)\n",
    "penguins"
   ]
  },
  {
   "cell_type": "markdown",
   "id": "e3912ec9-fafa-4f02-ab36-71c46c4e9998",
   "metadata": {},
   "source": [
    "**#9 Data preparation**"
   ]
  },
  {
   "cell_type": "code",
   "execution_count": 11,
   "id": "ead67f18-484d-40ad-92a2-45f3238f3222",
   "metadata": {},
   "outputs": [],
   "source": [
    "features = ['CulmenLength','CulmenDepth','FlipperLength','BodyMass']\n",
    "target = 'Species'\n",
    "X, y = penguins[features], penguins[target]"
   ]
  },
  {
   "cell_type": "markdown",
   "id": "815bb8f6-306e-4530-9ef1-e618f62f4f2a",
   "metadata": {},
   "source": [
    "**#10 Data split**"
   ]
  },
  {
   "cell_type": "code",
   "execution_count": 12,
   "id": "54c82eea-3064-40d9-b125-3efbaa0263a0",
   "metadata": {},
   "outputs": [
    {
     "name": "stdout",
     "output_type": "stream",
     "text": [
      "Training observations: 584\n",
      "Test observations: 147\n"
     ]
    }
   ],
   "source": [
    "X_train_2, X_test_2, y_train_2, y_test_2 = train_test_split(X[['CulmenLength', 'FlipperLength']], y, test_size=0.30, random_state=0, stratify=y)\n",
    "print('Training observations: %d\\nTest observations: %d' % (X_train.shape[0], X_test.shape[0]))"
   ]
  },
  {
   "cell_type": "code",
   "execution_count": 13,
   "id": "e4f1c789-3b31-4dd4-8076-b2408b1becfa",
   "metadata": {},
   "outputs": [],
   "source": [
    "# Scaling\n",
    "scaler_2var = StandardScaler()\n",
    "X_train_standardized_2 = scaler_2var.fit_transform(X_train_2)\n",
    "X_test_standardized_2 = scaler_2var.transform(X_test_2)\n",
    "\n",
    "# Add PCA\n",
    "pca = PCA(random_state=42)\n",
    "X_train_pca_2 = pca.fit_transform(X_train_standardized_2)\n",
    "X_test_pca_2 = pca.transform(X_test_standardized_2)"
   ]
  },
  {
   "cell_type": "markdown",
   "id": "56154f4b-0a81-40da-83ef-ca652092f49e",
   "metadata": {},
   "source": [
    "**#11 Function to calculate metrics**"
   ]
  },
  {
   "cell_type": "code",
   "execution_count": 14,
   "id": "51f1c89c-b40a-4bf1-96f5-e4010455569f",
   "metadata": {},
   "outputs": [],
   "source": [
    "metrics_dataframe = pd.DataFrame(columns=['Model', 'F1_score', 'AUC'])\n",
    "models = []\n",
    "models_names = []\n",
    "predictions_proba_list = []\n",
    "\n",
    "def calculate_metrics(model, name, X_checked, y_checked):\n",
    "    models.append(model)\n",
    "    models_names.append(name)\n",
    "    global metrics_dataframe\n",
    "    predictions = model.predict(X_checked)\n",
    "    predictions_proba = model.predict_proba(X_checked)\n",
    "    predictions_proba_list.append(predictions_proba[:,1])\n",
    "\n",
    "    ############## Metrics for the checked model ################\n",
    "    # Precision, Recall, F1, Accuracy\n",
    "    print(classification_report(y_checked, predictions))\n",
    "\n",
    "    # Confusion matrix\n",
    "    plt.figure()\n",
    "    cm = confusion_matrix(y_checked, predictions)\n",
    "    ax = sns.heatmap(cm, annot=True, cmap='Blues', fmt='.0f')\n",
    "    ax.set_title('Confusion Matrix\\n\\n')\n",
    "    ax.set_xlabel('\\nPredicted Values')\n",
    "    ax.set_ylabel('Actual Values ')\n",
    "    plt.show()\n",
    "\n",
    "    f1_metric = f1_score(y_checked, predictions, average='weighted')\n",
    "    auc_metric = roc_auc_score(y_checked, predictions_proba, multi_class='ovr')\n",
    "    new_row = pd.DataFrame({'Model': [name], 'F1_score': [f1_metric], 'AUC': [auc_metric]})\n",
    "    metrics_dataframe = pd.concat([metrics_dataframe, new_row], ignore_index=True)\n",
    "    \n",
    "    return metrics_dataframe"
   ]
  },
  {
   "cell_type": "markdown",
   "id": "815180dd-459a-49d4-8cdc-8495c68ea0bf",
   "metadata": {},
   "source": [
    "**#12 Classification models without PCA**"
   ]
  },
  {
   "cell_type": "code",
   "execution_count": 15,
   "id": "bc568a62-26f7-4639-a674-243d392052e2",
   "metadata": {},
   "outputs": [
    {
     "name": "stdout",
     "output_type": "stream",
     "text": [
      "              precision    recall  f1-score   support\n",
      "\n",
      "           0       0.94      0.98      0.96        45\n",
      "           1       1.00      1.00      1.00        37\n",
      "           2       0.95      0.86      0.90        21\n",
      "\n",
      "    accuracy                           0.96       103\n",
      "   macro avg       0.96      0.94      0.95       103\n",
      "weighted avg       0.96      0.96      0.96       103\n",
      "\n"
     ]
    },
    {
     "data": {
      "image/png": "[encoded data removed]",
      "text/plain": [
       "<Figure size 640x480 with 2 Axes>"
      ]
     },
     "metadata": {},
     "output_type": "display_data"
    },
    {
     "data": {
      "text/html": [
       "<div>\n",
       "<style scoped>\n",
       "    .dataframe tbody tr th:only-of-type {\n",
       "        vertical-align: middle;\n",
       "    }\n",
       "\n",
       "    .dataframe tbody tr th {\n",
       "        vertical-align: top;\n",
       "    }\n",
       "\n",
       "    .dataframe thead th {\n",
       "        text-align: right;\n",
       "    }\n",
       "</style>\n",
       "<table border=\"1\" class=\"dataframe\">\n",
       "  <thead>\n",
       "    <tr style=\"text-align: right;\">\n",
       "      <th></th>\n",
       "      <th>Model</th>\n",
       "      <th>F1_score</th>\n",
       "      <th>AUC</th>\n",
       "    </tr>\n",
       "  </thead>\n",
       "  <tbody>\n",
       "    <tr>\n",
       "      <th>0</th>\n",
       "      <td>Logistic Regression</td>\n",
       "      <td>0.960616</td>\n",
       "      <td>0.99357</td>\n",
       "    </tr>\n",
       "  </tbody>\n",
       "</table>\n",
       "</div>"
      ],
      "text/plain": [
       "                 Model  F1_score      AUC\n",
       "0  Logistic Regression  0.960616  0.99357"
      ]
     },
     "execution_count": 15,
     "metadata": {},
     "output_type": "execute_result"
    }
   ],
   "source": [
    "# Model - Logistic Regression\n",
    "\n",
    "model_lr = LogisticRegression()\n",
    "model_lr.fit(X_train_standardized_2, y_train_2)\n",
    "\n",
    "calculate_metrics(model_lr, 'Logistic Regression', X_test_standardized_2, y_test_2)"
   ]
  },
  {
   "cell_type": "code",
   "execution_count": 16,
   "id": "db0cae8a-1dc4-41e9-9bb2-1d995db04215",
   "metadata": {},
   "outputs": [
    {
     "name": "stdout",
     "output_type": "stream",
     "text": [
      "              precision    recall  f1-score   support\n",
      "\n",
      "           0       0.94      0.98      0.96        45\n",
      "           1       1.00      1.00      1.00        37\n",
      "           2       0.95      0.86      0.90        21\n",
      "\n",
      "    accuracy                           0.96       103\n",
      "   macro avg       0.96      0.94      0.95       103\n",
      "weighted avg       0.96      0.96      0.96       103\n",
      "\n"
     ]
    },
    {
     "data": {
      "image/png": "[encoded data removed]",
      "text/plain": [
       "<Figure size 640x480 with 2 Axes>"
      ]
     },
     "metadata": {},
     "output_type": "display_data"
    },
    {
     "data": {
      "text/html": [
       "<div>\n",
       "<style scoped>\n",
       "    .dataframe tbody tr th:only-of-type {\n",
       "        vertical-align: middle;\n",
       "    }\n",
       "\n",
       "    .dataframe tbody tr th {\n",
       "        vertical-align: top;\n",
       "    }\n",
       "\n",
       "    .dataframe thead th {\n",
       "        text-align: right;\n",
       "    }\n",
       "</style>\n",
       "<table border=\"1\" class=\"dataframe\">\n",
       "  <thead>\n",
       "    <tr style=\"text-align: right;\">\n",
       "      <th></th>\n",
       "      <th>Model</th>\n",
       "      <th>F1_score</th>\n",
       "      <th>AUC</th>\n",
       "    </tr>\n",
       "  </thead>\n",
       "  <tbody>\n",
       "    <tr>\n",
       "      <th>0</th>\n",
       "      <td>Logistic Regression</td>\n",
       "      <td>0.960616</td>\n",
       "      <td>0.993570</td>\n",
       "    </tr>\n",
       "    <tr>\n",
       "      <th>1</th>\n",
       "      <td>RandomForest</td>\n",
       "      <td>0.960616</td>\n",
       "      <td>0.985959</td>\n",
       "    </tr>\n",
       "  </tbody>\n",
       "</table>\n",
       "</div>"
      ],
      "text/plain": [
       "                 Model  F1_score       AUC\n",
       "0  Logistic Regression  0.960616  0.993570\n",
       "1         RandomForest  0.960616  0.985959"
      ]
     },
     "execution_count": 16,
     "metadata": {},
     "output_type": "execute_result"
    }
   ],
   "source": [
    "# Model - Random Forest\n",
    "\n",
    "min_samples_leaf = max(1, int(X_train_2.shape[0]*0.001))\n",
    "model_forest = RandomForestClassifier(n_estimators=1000, max_depth=3, min_samples_leaf=min_samples_leaf)\n",
    "model_forest.fit(X_train_standardized_2, y_train_2)\n",
    "\n",
    "calculate_metrics(model_forest, 'RandomForest', X_test_standardized_2, y_test_2)"
   ]
  },
  {
   "cell_type": "markdown",
   "id": "31c8b162-426b-4ad0-8b87-2c46739b93d5",
   "metadata": {},
   "source": [
    "**#13 Classification models with PCA**"
   ]
  },
  {
   "cell_type": "code",
   "execution_count": 17,
   "id": "a570ebcf-e2de-48ef-ba11-952289947c8f",
   "metadata": {},
   "outputs": [
    {
     "name": "stdout",
     "output_type": "stream",
     "text": [
      "              precision    recall  f1-score   support\n",
      "\n",
      "           0       0.94      0.98      0.96        45\n",
      "           1       1.00      1.00      1.00        37\n",
      "           2       0.95      0.86      0.90        21\n",
      "\n",
      "    accuracy                           0.96       103\n",
      "   macro avg       0.96      0.94      0.95       103\n",
      "weighted avg       0.96      0.96      0.96       103\n",
      "\n"
     ]
    },
    {
     "data": {
      "image/png": "[encoded data removed]",
      "text/plain": [
       "<Figure size 640x480 with 2 Axes>"
      ]
     },
     "metadata": {},
     "output_type": "display_data"
    },
    {
     "data": {
      "text/html": [
       "<div>\n",
       "<style scoped>\n",
       "    .dataframe tbody tr th:only-of-type {\n",
       "        vertical-align: middle;\n",
       "    }\n",
       "\n",
       "    .dataframe tbody tr th {\n",
       "        vertical-align: top;\n",
       "    }\n",
       "\n",
       "    .dataframe thead th {\n",
       "        text-align: right;\n",
       "    }\n",
       "</style>\n",
       "<table border=\"1\" class=\"dataframe\">\n",
       "  <thead>\n",
       "    <tr style=\"text-align: right;\">\n",
       "      <th></th>\n",
       "      <th>Model</th>\n",
       "      <th>F1_score</th>\n",
       "      <th>AUC</th>\n",
       "    </tr>\n",
       "  </thead>\n",
       "  <tbody>\n",
       "    <tr>\n",
       "      <th>0</th>\n",
       "      <td>Logistic Regression</td>\n",
       "      <td>0.960616</td>\n",
       "      <td>0.993570</td>\n",
       "    </tr>\n",
       "    <tr>\n",
       "      <th>1</th>\n",
       "      <td>RandomForest</td>\n",
       "      <td>0.960616</td>\n",
       "      <td>0.985959</td>\n",
       "    </tr>\n",
       "    <tr>\n",
       "      <th>2</th>\n",
       "      <td>Logistic Regression with PCA</td>\n",
       "      <td>0.960616</td>\n",
       "      <td>0.993570</td>\n",
       "    </tr>\n",
       "  </tbody>\n",
       "</table>\n",
       "</div>"
      ],
      "text/plain": [
       "                          Model  F1_score       AUC\n",
       "0           Logistic Regression  0.960616  0.993570\n",
       "1                  RandomForest  0.960616  0.985959\n",
       "2  Logistic Regression with PCA  0.960616  0.993570"
      ]
     },
     "execution_count": 17,
     "metadata": {},
     "output_type": "execute_result"
    }
   ],
   "source": [
    "# Model - Logistic Regression\n",
    "\n",
    "model_lr = LogisticRegression()\n",
    "model_lr.fit(X_train_pca_2, y_train_2)\n",
    "\n",
    "calculate_metrics(model_lr, 'Logistic Regression with PCA', X_test_pca_2, y_test_2)"
   ]
  },
  {
   "cell_type": "code",
   "execution_count": 18,
   "id": "b85f69ad-2ea6-4be7-b228-63d0d8fb99af",
   "metadata": {},
   "outputs": [
    {
     "name": "stdout",
     "output_type": "stream",
     "text": [
      "              precision    recall  f1-score   support\n",
      "\n",
      "           0       0.98      0.98      0.98        45\n",
      "           1       0.97      0.97      0.97        37\n",
      "           2       0.90      0.90      0.90        21\n",
      "\n",
      "    accuracy                           0.96       103\n",
      "   macro avg       0.95      0.95      0.95       103\n",
      "weighted avg       0.96      0.96      0.96       103\n",
      "\n"
     ]
    },
    {
     "data": {
      "image/png": "[encoded data removed]",
      "text/plain": [
       "<Figure size 640x480 with 2 Axes>"
      ]
     },
     "metadata": {},
     "output_type": "display_data"
    },
    {
     "data": {
      "text/html": [
       "<div>\n",
       "<style scoped>\n",
       "    .dataframe tbody tr th:only-of-type {\n",
       "        vertical-align: middle;\n",
       "    }\n",
       "\n",
       "    .dataframe tbody tr th {\n",
       "        vertical-align: top;\n",
       "    }\n",
       "\n",
       "    .dataframe thead th {\n",
       "        text-align: right;\n",
       "    }\n",
       "</style>\n",
       "<table border=\"1\" class=\"dataframe\">\n",
       "  <thead>\n",
       "    <tr style=\"text-align: right;\">\n",
       "      <th></th>\n",
       "      <th>Model</th>\n",
       "      <th>F1_score</th>\n",
       "      <th>AUC</th>\n",
       "    </tr>\n",
       "  </thead>\n",
       "  <tbody>\n",
       "    <tr>\n",
       "      <th>0</th>\n",
       "      <td>Logistic Regression</td>\n",
       "      <td>0.960616</td>\n",
       "      <td>0.993570</td>\n",
       "    </tr>\n",
       "    <tr>\n",
       "      <th>1</th>\n",
       "      <td>RandomForest</td>\n",
       "      <td>0.960616</td>\n",
       "      <td>0.985959</td>\n",
       "    </tr>\n",
       "    <tr>\n",
       "      <th>2</th>\n",
       "      <td>Logistic Regression with PCA</td>\n",
       "      <td>0.960616</td>\n",
       "      <td>0.993570</td>\n",
       "    </tr>\n",
       "    <tr>\n",
       "      <th>3</th>\n",
       "      <td>RandomForest with PCA</td>\n",
       "      <td>0.961165</td>\n",
       "      <td>0.985336</td>\n",
       "    </tr>\n",
       "  </tbody>\n",
       "</table>\n",
       "</div>"
      ],
      "text/plain": [
       "                          Model  F1_score       AUC\n",
       "0           Logistic Regression  0.960616  0.993570\n",
       "1                  RandomForest  0.960616  0.985959\n",
       "2  Logistic Regression with PCA  0.960616  0.993570\n",
       "3         RandomForest with PCA  0.961165  0.985336"
      ]
     },
     "execution_count": 18,
     "metadata": {},
     "output_type": "execute_result"
    }
   ],
   "source": [
    "# Model - Random Forest\n",
    "\n",
    "min_samples_leaf = max(1, int(X_train_2.shape[0]*0.001))\n",
    "model_forest = RandomForestClassifier(n_estimators=1000, max_depth=3, min_samples_leaf=min_samples_leaf)\n",
    "model_forest.fit(X_train_pca_2, y_train_2)\n",
    "\n",
    "calculate_metrics(model_forest, 'RandomForest with PCA', X_test_pca_2, y_test_2)"
   ]
  },
  {
   "cell_type": "markdown",
   "id": "e2f4b3f6-64c0-48fb-9760-9830f116d2ed",
   "metadata": {},
   "source": [
    "**#14 Summary**"
   ]
  },
  {
   "cell_type": "markdown",
   "id": "b7592440-2757-4a9f-b09b-97a4eb327afd",
   "metadata": {},
   "source": [
    "**CLASSIFICATION**\n",
    "\n",
    "**PCA did not impact the Logistic Regression outcome**, as the model handles a large number of features well, \n",
    "and **PCA did not improve class separation**. For RandomForest, **PCA caused a slight drop in the F1-score** \n",
    "because the model effectively selects important features by itself, and **PCA may have removed critical information**. \n",
    "AUC remained almost unchanged, indicating the **ability to distinguish classes was preserved**. \n",
    "\n",
    "**Conclusion**: **PCA does not always improve results** – if the features are well-selected, it may be unnecessary or even degrade the model.\n"
   ]
  },
  {
   "cell_type": "markdown",
   "id": "0e20d188-0e6f-42fc-929b-ff90fe5853f2",
   "metadata": {},
   "source": [
    "**REGRESSION** "
   ]
  },
  {
   "cell_type": "code",
   "execution_count": 19,
   "id": "ccc8e1f4-4306-43d9-a122-7530001a005d",
   "metadata": {
    "scrolled": true
   },
   "outputs": [
    {
     "name": "stdout",
     "output_type": "stream",
     "text": [
      "Metric comparison:\n",
      "Metric     Final model     Final model with PCA\n",
      "----------------------------------------\n",
      "R^2        0.5247          0.4985         \n",
      "MAE        348.5852        363.6576       \n",
      "MAPE       0.8593          0.7159         \n",
      "MSE        234195.9311     247100.0128    \n",
      "RMSE       483.9379        497.0916       \n"
     ]
    }
   ],
   "source": [
    "# Metrics for final model without PCA\n",
    "metrics_final_model = {\n",
    "    \"R^2\": round(r2_score(y_test, predictions), 4),\n",
    "    \"MAE\": round(mean_absolute_error(y_test, predictions), 4),\n",
    "    \"MAPE\": round(mean_absolute_percentage_error(y_test, predictions), 4),\n",
    "    \"MSE\": round(mean_squared_error(y_test, predictions), 4),\n",
    "    \"RMSE\": round(sqrt(mean_squared_error(y_test, predictions)), 4)\n",
    "}\n",
    "\n",
    "# Metrics for final model with PCA\n",
    "metrics_final_model_with_PCA = {\n",
    "    \"R^2\": round(r2_score(y_test, predictions_with_pca), 4),\n",
    "    \"MAE\": round(mean_absolute_error(y_test, predictions_with_pca), 4),\n",
    "    \"MAPE\": round(mean_absolute_percentage_error(y_test, predictions_with_pca), 4),\n",
    "    \"MSE\": round(mean_squared_error(y_test, predictions_with_pca), 4),\n",
    "    \"RMSE\": round(sqrt(mean_squared_error(y_test, predictions_with_pca)), 4)\n",
    "}\n",
    "\n",
    "# Display results\n",
    "print(\"Metric comparison:\")\n",
    "print(f\"{'Metric':<10} {'Final model':<15} {'Final model with PCA':<15}\")\n",
    "print(\"-\" * 40)\n",
    "for metric in metrics_final_model.keys():\n",
    "    print(f\"{metric:<10} {metrics_final_model[metric]:<15} {metrics_final_model_with_PCA[metric]:<15}\")"
   ]
  },
  {
   "cell_type": "markdown",
   "id": "791c213a-518b-4c38-8c73-8dff4d17a74d",
   "metadata": {},
   "source": [
    "**The model without PCA performed better** on most metrics like **R², MAE, MSE, and RMSE**, suggesting that without PCA, \n",
    "the model **fits the data better** and has **smaller prediction errors**. \n",
    "However, the model with PCA had a better **MAPE score**, indicating **more stable predictions** with respect to actual values. \n",
    "**Overall**, while PCA improved **stability in MAPE**, the model **without PCA was more accurate** in most cases."
   ]
  }
 ],
 "metadata": {
  "kernelspec": {
   "display_name": "Python 3 (ipykernel)",
   "language": "python",
   "name": "python3"
  },
  "language_info": {
   "codemirror_mode": {
    "name": "ipython",
    "version": 3
   },
   "file_extension": ".py",
   "mimetype": "text/x-python",
   "name": "python",
   "nbconvert_exporter": "python",
   "pygments_lexer": "ipython3",
   "version": "3.12.3"
  }
 },
 "nbformat": 4,
 "nbformat_minor": 5
}
